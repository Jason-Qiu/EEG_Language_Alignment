{
 "cells": [
  {
   "cell_type": "code",
   "execution_count": 18,
   "metadata": {},
   "outputs": [],
   "source": [
    "import torch\n",
    "\n",
    "x1 = torch.randn(2, 16)\n",
    "x2 = torch.randn(2, 16)\n",
    "\n"
   ]
  },
  {
   "cell_type": "code",
   "execution_count": 19,
   "metadata": {},
   "outputs": [],
   "source": [
    "device = torch.device('cpu')\n",
    "r1 = 1e-3\n",
    "r2 = 1e-3\n",
    "eps = 1e-9\n",
    "\n",
    "H1, H2 = x1.t(), x2.t()\n",
    "\n",
    "o1 =  H1.size(0)\n",
    "o2 = H2.size(0)\n",
    "\n",
    "m = H1.size(1)\n",
    "\n",
    "\n",
    "H1bar = H1 - H1.mean(dim=1).unsqueeze(dim=1)\n",
    "H2bar = H2 - H2.mean(dim=1).unsqueeze(dim=1)\n",
    "\n",
    "SigmaHat12 = (1.0 / (m - 1)) * torch.matmul(H1bar, H2bar.t())\n",
    "SigmaHat11 = (1.0 / (m - 1)) * torch.matmul(H1bar,\n",
    "                                            H1bar.t()) + r1 * torch.eye(o1, device=device)\n",
    "SigmaHat22 = (1.0 / (m - 1)) * torch.matmul(H2bar,\n",
    "                                            H2bar.t()) + r2 * torch.eye(o2, device=device)\n"
   ]
  },
  {
   "cell_type": "code",
   "execution_count": 20,
   "metadata": {},
   "outputs": [],
   "source": [
    "[D1, V1] = torch.eig(SigmaHat11, eigenvectors=True)\n",
    "[D2, V2] = torch.eig(SigmaHat22, eigenvectors=True)"
   ]
  },
  {
   "cell_type": "code",
   "execution_count": 27,
   "metadata": {},
   "outputs": [],
   "source": [
    "posInd1 = torch.gt(D1, eps).nonzero()[:, 0]\n",
    "D1 = D1[posInd1]\n",
    "V1 = V1[:, posInd1]\n",
    "posInd2 = torch.gt(D2, eps).nonzero()[:, 0]\n",
    "D2 = D2[posInd2]\n",
    "V2 = V2[:, posInd2]"
   ]
  },
  {
   "cell_type": "code",
   "execution_count": 57,
   "metadata": {},
   "outputs": [
    {
     "ename": "RuntimeError",
     "evalue": "size mismatch, got 16, 16x18,2",
     "output_type": "error",
     "traceback": [
      "\u001b[0;31m---------------------------------------------------------------------------\u001b[0m",
      "\u001b[0;31mRuntimeError\u001b[0m                              Traceback (most recent call last)",
      "Cell \u001b[0;32mIn[57], line 2\u001b[0m\n\u001b[1;32m      1\u001b[0m SigmaHat11RootInv \u001b[39m=\u001b[39m torch\u001b[39m.\u001b[39mmatmul(\n\u001b[0;32m----> 2\u001b[0m     torch\u001b[39m.\u001b[39;49mmatmul(V1, torch\u001b[39m.\u001b[39;49mdiag(complex_tensor \u001b[39m*\u001b[39;49m\u001b[39m*\u001b[39;49m \u001b[39m-\u001b[39;49m\u001b[39m0.5\u001b[39;49m)), V1\u001b[39m.\u001b[39mt())\n\u001b[1;32m      3\u001b[0m \u001b[39m# SigmaHat22RootInv = torch.matmul(\u001b[39;00m\n\u001b[1;32m      4\u001b[0m \u001b[39m#     torch.matmul(V2, torch.diag(D2 ** -0.5)), V2.t())\u001b[39;00m\n",
      "\u001b[0;31mRuntimeError\u001b[0m: size mismatch, got 16, 16x18,2"
     ]
    }
   ],
   "source": [
    "SigmaHat11RootInv = torch.matmul(\n",
    "    torch.matmul(V1, torch.diag(D1 ** -0.5)), V1.t())\n",
    "SigmaHat22RootInv = torch.matmul(\n",
    "    torch.matmul(V2, torch.diag(D2 ** -0.5)), V2.t())"
   ]
  },
  {
   "cell_type": "code",
   "execution_count": 90,
   "metadata": {},
   "outputs": [
    {
     "name": "stdout",
     "output_type": "stream",
     "text": [
      "torch.Size([16, 2])\n",
      "torch.Size([16])\n",
      "torch.Size([16])\n",
      "torch.Size([16, 2])\n",
      "torch.Size([16])\n",
      "torch.Size([16])\n"
     ]
    }
   ],
   "source": [
    "import torch\n",
    "\n",
    "x1 = torch.randn(2, 16)\n",
    "x2 = torch.randn(2, 16)\n",
    "device = torch.device('cpu')\n",
    "r1 = 1e-3\n",
    "r2 = 1e-3\n",
    "eps = 1e-9\n",
    "\n",
    "H1, H2 = x1.t(), x2.t()\n",
    "\n",
    "o1 =  H1.size(0)\n",
    "o2 = H2.size(0)\n",
    "\n",
    "m = H1.size(1)\n",
    "\n",
    "\n",
    "H1bar = H1 - H1.mean(dim=1).unsqueeze(dim=1)\n",
    "H2bar = H2 - H2.mean(dim=1).unsqueeze(dim=1)\n",
    "\n",
    "SigmaHat12 = (1.0 / (m - 1)) * torch.matmul(H1bar, H2bar.t())\n",
    "SigmaHat11 = (1.0 / (m - 1)) * torch.matmul(H1bar,\n",
    "                                            H1bar.t()) + r1 * torch.eye(o1, device=device)\n",
    "SigmaHat22 = (1.0 / (m - 1)) * torch.matmul(H2bar,\n",
    "                                            H2bar.t()) + r2 * torch.eye(o2, device=device)\n",
    "\n",
    "[D1, V1] = torch.eig(SigmaHat11, eigenvectors=True)\n",
    "[D2, V2] = torch.eig(SigmaHat22, eigenvectors=True)\n",
    "\n",
    "# posInd1 = torch.gt(D1[:, 0], eps).nonzero()[:, 0]\n",
    "# D1 = D1[posInd1]\n",
    "# V1 = V1[:, posInd1]\n",
    "print(D1.shape)\n",
    "print(D1)\n",
    "posInd1 = torch.gt(D1[:, 0], eps).nonzero()[:, 0]\n",
    "D1 = D1[posInd1, 0]\n",
    "V1 = V1[:, posInd1]\n",
    "print(D1)\n",
    "print(D1.shape)\n",
    "D1 = torch.squeeze(D1)  # Remove extra dimensions from D1\n",
    "print(D1.shape)\n",
    " # Reshape D1 to 1-dimensional tensor\n",
    "posInd2 = torch.gt(D2, eps).nonzero()[:, 0]\n",
    "posInd2 = torch.gt(D2[:, 0], eps).nonzero()[:, 0]\n",
    "print(D2.shape)\n",
    "\n",
    "D2 = D2[posInd2, 0]\n",
    "V2 = V2[:, posInd2]\n",
    "print(D2.shape)\n",
    "D2 = torch.squeeze(D2)\n",
    "print(D2.shape)\n",
    "SigmaHat11RootInv = torch.matmul(\n",
    "    torch.matmul(V1, torch.diag(D1 ** -0.5)), V1.t())\n",
    "SigmaHat22RootInv = torch.matmul(\n",
    "    torch.matmul(V2, torch.diag(D2 ** -0.5)), V2.t())"
   ]
  },
  {
   "cell_type": "code",
   "execution_count": null,
   "metadata": {},
   "outputs": [],
   "source": []
  }
 ],
 "metadata": {
  "kernelspec": {
   "display_name": "eeg",
   "language": "python",
   "name": "python3"
  },
  "language_info": {
   "codemirror_mode": {
    "name": "ipython",
    "version": 3
   },
   "file_extension": ".py",
   "mimetype": "text/x-python",
   "name": "python",
   "nbconvert_exporter": "python",
   "pygments_lexer": "ipython3",
   "version": "3.8.16"
  },
  "orig_nbformat": 4
 },
 "nbformat": 4,
 "nbformat_minor": 2
}
